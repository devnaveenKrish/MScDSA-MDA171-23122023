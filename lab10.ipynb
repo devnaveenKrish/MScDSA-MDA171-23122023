{
 "cells": [
  {
   "cell_type": "markdown",
   "metadata": {},
   "source": [
    "Write a python programme that will read a csv file and print the mean , median and mode for a column of user input."
   ]
  },
  {
   "cell_type": "code",
   "execution_count": 112,
   "metadata": {},
   "outputs": [
    {
     "name": "stdout",
     "output_type": "stream",
     "text": [
      "['']\n"
     ]
    }
   ],
   "source": [
    "def read(filename , col):\n",
    "    column = []\n",
    "    with open(filename , \"r+\")as file:\n",
    "        for i in file:\n",
    "            columnline = file.readlines()\n",
    "            line = file.readline()\n",
    "            lines = line.strip().split(\",\")\n",
    "            column.append(lines[col])\n",
    "    return column\n",
    "\n",
    "col = int(input(\"Enter the column that you want to calculate the mean , median and mode: \"))\n",
    "filename = \"data.csv\"\n",
    "column_list = read(filename , col)\n",
    "print(column_list)\n",
    "\n"
   ]
  },
  {
   "cell_type": "code",
   "execution_count": 114,
   "metadata": {},
   "outputs": [
    {
     "name": "stdout",
     "output_type": "stream",
     "text": [
      "Mean =  0.6577181208053692\n",
      "Median =  1.0\n"
     ]
    }
   ],
   "source": [
    "def read_file(num):\n",
    "    with open(\"021new_dataset.csv\" , \"r+\")as file:\n",
    "        col_list = []\n",
    "        for i in file:\n",
    "            line = file.readline()\n",
    "            lines = line.strip().split(\",\")\n",
    "            col_list.append(lines[num])\n",
    "        return col_list\n",
    "\n",
    "def mean_(result):\n",
    "    s = 0\n",
    "    for i in result:\n",
    "        s = s+float(i)\n",
    "        length = len(result)\n",
    "    mean_avg = s / length\n",
    "    print(\"Mean = \" , mean_avg)\n",
    "\n",
    "def median_(result):\n",
    "    result.sort()\n",
    "    len_list = len(result)\n",
    "    mid = len(result)//2\n",
    "    if len_list%2 != 0:\n",
    "        print(\"Median = \",result[mid])\n",
    "    else:\n",
    "        sum = float(result[mid])+float(result[mid+1])\n",
    "        median = sum//2\n",
    "        print(\"Median = \" , median)\n",
    "        \n",
    "\n",
    "\n",
    "\n",
    "\n",
    "\n",
    "num = int(input(\"Enter the numebr of column: \"))\n",
    "result = read_file(num)\n",
    "mean_(result)\n",
    "median_(result)\n"
   ]
  },
  {
   "cell_type": "code",
   "execution_count": 120,
   "metadata": {},
   "outputs": [
    {
     "name": "stdout",
     "output_type": "stream",
     "text": [
      "['1.0', '1.0', '0.0', '0.0', '1.0', '1.0', '1.0', '1.0', '1.0', '0.0', '1.0', '1.0', '1.0', '0.0', '1.0', '0.0', '1.0', '1.0', '1.0', '1.0', '0.0', '0.0', '0.0', '1.0', '0.0', '0.0', '1.0', '1.0', '1.0', '1.0', '0.0', '1.0', '1.0', '1.0', '1.0', '0.0', '1.0', '1.0', '1.0', '1.0', '1.0', '1.0', '1.0', '1.0', '0.0', '0.0', '0.0', '1.0', '0.0', '1.0', '1.0', '0.0', '1.0', '1.0', '1.0', '1.0', '0.0', '1.0', '0.0', '1.0', '0.0', '1.0', '0.0', '1.0', '0.0', '1.0', '1.0', '0.0', '1.0', '1.0', '1.0', '1.0', '1.0', '1.0', '0.0', '0.0', '1.0', '1.0', '1.0', '1.0', '1.0', '0.0', '1.0', '1.0', '1.0', '0.0', '1.0', '1.0', '1.0', '1.0', '1.0', '0.0', '1.0', '1.0', '1.0', '0.0', '1.0', '0.0', '1.0', '0.0', '0.0', '1.0', '1.0', '0.0', '1.0', '0.0', '1.0', '0.0', '1.0', '0.0', '1.0', '0.0', '0.0', '1.0', '0.0', '0.0', '1.0', '1.0', '1.0', '0.0', '1.0', '1.0', '1.0', '1.0', '1.0', '0.0', '0.0', '0.0', '1.0', '0.0', '1.0', '1.0', '1.0', '1.0', '1.0', '1.0', '0.0', '1.0', '1.0', '0.0', '1.0', '0.0', '1.0', '0.0', '1.0', '1.0', '0.0', '1.0', '0.0']\n"
     ]
    }
   ],
   "source": [
    "with open(\"021new_dataset.csv\") as file:\n",
    "    lis = []\n",
    "    n = int(input())\n",
    "    for i in file:\n",
    "        lines = file.readline()\n",
    "        line = lines.strip().split(\",\")\n",
    "        lis.append(line[n])\n",
    "\n",
    "print(lis)\n",
    "\n"
   ]
  },
  {
   "cell_type": "code",
   "execution_count": null,
   "metadata": {},
   "outputs": [],
   "source": []
  }
 ],
 "metadata": {
  "kernelspec": {
   "display_name": "Python 3",
   "language": "python",
   "name": "python3"
  },
  "language_info": {
   "codemirror_mode": {
    "name": "ipython",
    "version": 3
   },
   "file_extension": ".py",
   "mimetype": "text/x-python",
   "name": "python",
   "nbconvert_exporter": "python",
   "pygments_lexer": "ipython3",
   "version": "3.11.5"
  },
  "orig_nbformat": 4
 },
 "nbformat": 4,
 "nbformat_minor": 2
}
