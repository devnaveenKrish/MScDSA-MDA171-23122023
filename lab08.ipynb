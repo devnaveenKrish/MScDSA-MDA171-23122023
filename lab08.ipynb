{
 "cells": [
  {
   "cell_type": "code",
   "execution_count": 18,
   "metadata": {},
   "outputs": [],
   "source": [
    "def metrix__1(row_1):\n",
    "    for i in range(row_1):\n",
    "        val1 = int(input(\"Val 1\"))\n",
    "        val2 = int(input(\"Val 2\"))\n",
    "        val3 = int(input(\"Val 3\"))\n",
    "        metrix_1 = {\n",
    "            \"row1\" : [\n",
    "                val1 , val2 , val3\n",
    "            ],\n",
    "            \"row2\" : [\n",
    "                val1 , val2 , val3\n",
    "            ],\n",
    "            \"row3\" : [\n",
    "                val1 , val2 , val3\n",
    "            ]\n",
    "        }\n",
    "    print(metrix_1[\"row1\"])\n",
    "    print(metrix_1[\"row2\"])\n",
    "    print(metrix_1[\"row3\"])\n",
    "\n",
    "\n",
    "\n",
    "def metrix__2(row_2):\n",
    "    for i in range(row_2):\n",
    "        val1 = int(input(\"Val 1\"))\n",
    "        val2 = int(input(\"Val 2\"))\n",
    "        val3 = int(input(\"Val 3\"))\n",
    "        val4 = int(input(\"Val 4\"))\n",
    "        val5 = int(input(\"Val 5\"))\n",
    "        val6 = int(input(\"Val 6\"))\n",
    "        val7 = int(input(\"Val 7\"))\n",
    "        val8 = int(input(\"Val 8\"))\n",
    "        val9 = int(input(\"Val 9\"))\n",
    "        metrix_2 = {\n",
    "            \"row1\" : [\n",
    "                val1 , val2 , val3\n",
    "            ],\n",
    "            \"row2\" : [\n",
    "                val1 , val2 , val3\n",
    "            ],\n",
    "            \"row3\" : [\n",
    "                val1 , val2 , val3\n",
    "            ]\n",
    "        }\n",
    "    print(metrix_2[\"row1\"])\n",
    "    print(metrix_2[\"row2\"])\n",
    "    print(metrix_2[\"row3\"])\n",
    "\n",
    "    \n",
    "\n"
   ]
  },
  {
   "cell_type": "code",
   "execution_count": 19,
   "metadata": {},
   "outputs": [
    {
     "name": "stdout",
     "output_type": "stream",
     "text": [
      "[78, 89, 90]\n",
      "[78, 89, 90]\n",
      "[78, 89, 90]\n",
      "[54, 54, 43]\n",
      "[54, 54, 43]\n",
      "[54, 54, 43]\n"
     ]
    }
   ],
   "source": [
    "row_1 = int(input(\"Enter the number of rows: \"))\n",
    "metrix__1(row_1)\n",
    "\n",
    "row_2 = int(input(\"Enter the number of rows: \"))\n",
    "metrix__2(row_2)"
   ]
  },
  {
   "cell_type": "code",
   "execution_count": null,
   "metadata": {},
   "outputs": [],
   "source": []
  }
 ],
 "metadata": {
  "kernelspec": {
   "display_name": "Python 3",
   "language": "python",
   "name": "python3"
  },
  "language_info": {
   "codemirror_mode": {
    "name": "ipython",
    "version": 3
   },
   "file_extension": ".py",
   "mimetype": "text/x-python",
   "name": "python",
   "nbconvert_exporter": "python",
   "pygments_lexer": "ipython3",
   "version": "3.11.5"
  },
  "orig_nbformat": 4
 },
 "nbformat": 4,
 "nbformat_minor": 2
}
