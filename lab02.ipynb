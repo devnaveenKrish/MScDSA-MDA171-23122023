{
 "cells": [
  {
   "cell_type": "code",
   "execution_count": 137,
   "metadata": {},
   "outputs": [],
   "source": [
    "array=[]\n",
    "#function starts\n",
    "def insertname(array):\n",
    "    #function definition\n",
    "    f=0\n",
    "    #input from the user\n",
    "    name=input(\"Enter the name: \")\n",
    "    #validation for q\n",
    "    if name=='q':\n",
    "        print(\"Enter a valid name.\")\n",
    "    else:\n",
    "        #making the first letter upper case\n",
    "        name=name.title()\n",
    "        tname=name\n",
    "        tname=tname.replace(\" \", \"\")\n",
    "        tf=tname.isalpha()\n",
    "        #element repetition prevention\n",
    "        if name in array:\n",
    "            print(\"The name already exist\")\n",
    "            f=1\n",
    "\n",
    "        if tf==True and f==0:\n",
    "        #if name is unique and character only, then the name is saved\n",
    "            array.append(name)\n",
    "            print(\"Name added successfully\")\n",
    "        else:\n",
    "            print(\"Name not saved\")\n",
    "    print(array)\n",
    "        \n",
    "        \n"
   ]
  },
  {
   "cell_type": "code",
   "execution_count": 155,
   "metadata": {},
   "outputs": [
    {
     "name": "stdout",
     "output_type": "stream",
     "text": [
      "Name added successfully\n",
      "['Naveen', 'Hdsgikj', 'Fathima Pathu', 'Abin Roy', 'Souvik Kundan', '   Nfnf']\n",
      "Name which is smallest:  Naveen\n",
      "Name which is largest:  Fathima Pathu\n"
     ]
    }
   ],
   "source": [
    "insertname(array)\n",
    "largest = max(array, key=len)\n",
    "smallest = min(array, key=len)\n",
    "print(\"Name which is smallest: \", smallest)\n",
    "print(\"Name which is largest: \", largest)"
   ]
  },
  {
   "cell_type": "code",
   "execution_count": null,
   "metadata": {},
   "outputs": [],
   "source": []
  },
  {
   "cell_type": "code",
   "execution_count": null,
   "metadata": {},
   "outputs": [],
   "source": []
  }
 ],
 "metadata": {
  "kernelspec": {
   "display_name": "Python 3",
   "language": "python",
   "name": "python3"
  },
  "language_info": {
   "codemirror_mode": {
    "name": "ipython",
    "version": 3
   },
   "file_extension": ".py",
   "mimetype": "text/x-python",
   "name": "python",
   "nbconvert_exporter": "python",
   "pygments_lexer": "ipython3",
   "version": "3.11.4"
  },
  "orig_nbformat": 4
 },
 "nbformat": 4,
 "nbformat_minor": 2
}
