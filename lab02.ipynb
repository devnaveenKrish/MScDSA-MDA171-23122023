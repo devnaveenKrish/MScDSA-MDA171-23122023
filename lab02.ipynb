{
 "cells": [
  {
   "cell_type": "code",
   "execution_count": 90,
   "metadata": {},
   "outputs": [
    {
     "name": "stdout",
     "output_type": "stream",
     "text": [
      "['Navi', 'Nav', 'Naveeeeeeeeeeeeeeen']\n"
     ]
    }
   ],
   "source": [
    "arr = []\n",
    "def store_name(n  , arr):\n",
    "    for i in range(n):\n",
    "        name =  input(\"Enter the name here: \")\n",
    "        name = name.title()\n",
    "        if name == \"Q\":\n",
    "            print(arr)\n",
    "            break\n",
    "        if name in arr:\n",
    "            print(\"Name alrady exist.\")\n",
    "            break\n",
    "        else:\n",
    "            name = name.title()\n",
    "            arr.append(name)\n",
    "    print(arr)\n",
    "\n",
    "n = int(input(\"Enter the number of names you want to add: \"))\n",
    "store_name(n , arr)\n",
    "\n"
   ]
  },
  {
   "cell_type": "code",
   "execution_count": 91,
   "metadata": {},
   "outputs": [
    {
     "name": "stdout",
     "output_type": "stream",
     "text": [
      "Biggest name in the list:  Naveeeeeeeeeeeeeeen\n"
     ]
    }
   ],
   "source": [
    "max = 1\n",
    "for i in arr:\n",
    "    count = len(i)\n",
    "    if max<count:\n",
    "        max = count\n",
    "        big = i\n",
    "print(\"Biggest name in the list: \" , big)"
   ]
  },
  {
   "cell_type": "code",
   "execution_count": 92,
   "metadata": {},
   "outputs": [
    {
     "name": "stdout",
     "output_type": "stream",
     "text": [
      "Smallest name in the list :  Nav\n"
     ]
    }
   ],
   "source": [
    "min = 1000\n",
    "for i in arr:\n",
    "    count = len(i)\n",
    "    if count<min:\n",
    "        min = count\n",
    "        small = i\n",
    "print(\"Smallest name in the list : \" , small)\n"
   ]
  }
 ],
 "metadata": {
  "kernelspec": {
   "display_name": "Python 3",
   "language": "python",
   "name": "python3"
  },
  "language_info": {
   "codemirror_mode": {
    "name": "ipython",
    "version": 3
   },
   "file_extension": ".py",
   "mimetype": "text/x-python",
   "name": "python",
   "nbconvert_exporter": "python",
   "pygments_lexer": "ipython3",
   "version": "3.11.5"
  },
  "orig_nbformat": 4
 },
 "nbformat": 4,
 "nbformat_minor": 2
}
