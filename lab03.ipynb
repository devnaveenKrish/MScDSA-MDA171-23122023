{
 "cells": [
  {
   "cell_type": "code",
   "execution_count": 58,
   "metadata": {},
   "outputs": [],
   "source": [
    "Numberharmony=[761, 123, 585, 275, 194, 840, 999, 622, 763, 40, 825, 687, 402, 338, 611, 987, 739, 95, 819, 568, 320, 126, 688, 948, 514, 223, 751, 379, 857, 767, 492, 162, 437, 934, 430, 343, 725, 511, 580, 678, 708, 823, 346, 179, 786, 663, 195, 890, 267, 502, 214, 300, 786, 961, 235, 559, 992, 919, 948, 318, 57, 787, 653, 317, 305, 172, 966, 182, 970, 17, 89, 624, 629, 595, 485, 752, 984, 978, 460, 124, 321, 256, 614, 852, 811, 561, 127, 207, 406, 615, 888, 391, 691, 470, 911, 401, 137, 600, 478, 682]\n",
    "def primary(list1):    \n",
    "    variable1=0\n",
    "    variable2=0\n",
    "    for i in Numberharmony:   #MEAN\n",
    "        variable1+=1\n",
    "        variable2+=i\n",
    "        mean=variable2/variable1\n",
    "    print(\"The Mean of the given list is: \",mean)\n",
    "\n",
    "\n",
    "def primary2(list1):\n",
    "    variable3=list1[0]\n",
    "    for j in list1:\n",
    "        if j>variable3:\n",
    "            variable3=j\n",
    "    print(\"The Maximum number from the given list is: \",variable3)\n",
    "\n",
    "def primary3(list1):\n",
    "    variable4=list1[0]\n",
    "    for j in list1:\n",
    "        if j<variable4:\n",
    "            variable4=j\n",
    "    print(\"The Minimum number from the given list is: \",variable4)\n",
    "\n",
    "def primary4(list1):\n",
    "    variable4=list1[0]\n",
    "    variable3=list1[0]\n",
    "    for j in list1:\n",
    "        if j<variable4:\n",
    "            variable4=j\n",
    "        for l in list1:\n",
    "            if l>variable3:\n",
    "                variable3=l\n",
    "    #     return variable3\n",
    "    # return variable4\n",
    "    print(\"The Range of the given list is :\", variable3-variable4)"
   ]
  },
  {
   "cell_type": "code",
   "execution_count": 59,
   "metadata": {},
   "outputs": [
    {
     "name": "stdout",
     "output_type": "stream",
     "text": [
      "The Mean of the given list is:  542.94\n",
      "The Maximum number from the given list is:  999\n",
      "The Minimum number from the given list is:  17\n",
      "The Range of the given list is : 982\n"
     ]
    }
   ],
   "source": [
    "primary(list1)\n",
    "primary2(list1)\n",
    "primary3(list1)\n",
    "primary4(list1)"
   ]
  },
  {
   "cell_type": "code",
   "execution_count": null,
   "metadata": {},
   "outputs": [],
   "source": []
  }
 ],
 "metadata": {
  "kernelspec": {
   "display_name": "Python 3",
   "language": "python",
   "name": "python3"
  },
  "language_info": {
   "codemirror_mode": {
    "name": "ipython",
    "version": 3
   },
   "file_extension": ".py",
   "mimetype": "text/x-python",
   "name": "python",
   "nbconvert_exporter": "python",
   "pygments_lexer": "ipython3",
   "version": "3.11.4"
  },
  "orig_nbformat": 4
 },
 "nbformat": 4,
 "nbformat_minor": 2
}
