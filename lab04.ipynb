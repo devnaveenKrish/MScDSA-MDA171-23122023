{
 "cells": [
  {
   "cell_type": "markdown",
   "metadata": {},
   "source": [
    "# A Taste of Success: The Restaurant Management System"
   ]
  },
  {
   "cell_type": "code",
   "execution_count": 1,
   "metadata": {},
   "outputs": [],
   "source": [
    "def RMS(name , date , item , rate , qty , guestcount):\n",
    "    file = open(\"RMS.txt\", \"r+\")\n",
    "    file.write(\"\\nName = \"+name)\n",
    "    file.write(\"\\nDate = \"+date)\n",
    "    file.write(\"\\nItem Code = \"+item)\n",
    "    file.write(\"\\nQuantity = \"+str(qty))\n",
    "    file.write(\"\\nRate = \"+str(rate))\n",
    "    file.write(\"\\nGuestCount = \"+guestcount)\n",
    "    file.write(\"\\n-----------------------------------------------------------------------------------------------------------\")\n",
    "    file.close()\n",
    "    return True\n"
   ]
  },
  {
   "cell_type": "code",
   "execution_count": 2,
   "metadata": {},
   "outputs": [
    {
     "data": {
      "text/plain": [
       "True"
      ]
     },
     "execution_count": 2,
     "metadata": {},
     "output_type": "execute_result"
    }
   ],
   "source": [
    "name = input(\"Enter the Name here: \")\n",
    "date = input(\"Enter the date: \")\n",
    "item = input(\"Enter the item here: \")\n",
    "init_rate = int(input(\"Enter the rate of the item: \"))\n",
    "qty = int(input(\"Enter the quantity of the item\"))\n",
    "guestcount = input(\"Enter the Guest Count: \")\n",
    "rate=init_rate*qty\n",
    "RMS(name , date , item , rate , qty , guestcount)"
   ]
  },
  {
   "cell_type": "code",
   "execution_count": 3,
   "metadata": {},
   "outputs": [
    {
     "name": "stdout",
     "output_type": "stream",
     "text": [
      "The total amount obtained in this day =  966\n"
     ]
    }
   ],
   "source": [
    "#analysis\n",
    "salescount = 0\n",
    "with open(\"RMS.txt\" , \"r+\") as file :\n",
    "    for line in file:\n",
    "        if \"Rate\" in line:\n",
    "            \n",
    "            Rate = int(line.split(\"=\")[1].strip())\n",
    "            salescount += Rate\n",
    "print(\"The total amount obtained in this day = \" , salescount)\n",
    "    # print(\"The total amount of guests per day: \" , salescount)"
   ]
  },
  {
   "cell_type": "code",
   "execution_count": 4,
   "metadata": {},
   "outputs": [
    {
     "name": "stdout",
     "output_type": "stream",
     "text": [
      "The total Guest obtained in this day =  8\n"
     ]
    }
   ],
   "source": [
    "#analysis\n",
    "salescount = 0\n",
    "with open(\"RMS.txt\" , \"r+\") as file :\n",
    "    for line in file:\n",
    "        if \"GuestCount\" in line:\n",
    "            \n",
    "            Rate = int(line.split(\"=\")[1].strip())\n",
    "            salescount += Rate\n",
    "print(\"The total Guest obtained in this day = \" , salescount)\n",
    "    # print(\"The total amount of guests per day: \" , salescount)"
   ]
  },
  {
   "cell_type": "code",
   "execution_count": null,
   "metadata": {},
   "outputs": [],
   "source": []
  }
 ],
 "metadata": {
  "kernelspec": {
   "display_name": "Python 3",
   "language": "python",
   "name": "python3"
  },
  "language_info": {
   "codemirror_mode": {
    "name": "ipython",
    "version": 3
   },
   "file_extension": ".py",
   "mimetype": "text/x-python",
   "name": "python",
   "nbconvert_exporter": "python",
   "pygments_lexer": "ipython3",
   "version": "3.11.5"
  },
  "orig_nbformat": 4
 },
 "nbformat": 4,
 "nbformat_minor": 2
}
