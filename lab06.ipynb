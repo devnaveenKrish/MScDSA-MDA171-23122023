{
 "cells": [
  {
   "cell_type": "code",
   "execution_count": 22,
   "metadata": {},
   "outputs": [],
   "source": [
    "# string = input(\"Enter the strings here: \")\n",
    "# for i in string:\n",
    "#     if i=='a' or i=='A':\n",
    "#         print(\"Vowel in the string = \",i)\n",
    "#     if i=='e' or i=='E':\n",
    "#         print(\"Vowel in the string = \",i)\n",
    "#     if i=='i' or i=='I':\n",
    "#         print(\"Vowel in the string = \",i)\n",
    "#     if i=='o' or i=='O':\n",
    "#         print(\"Vowel in the string = \",i)\n",
    "#     if i=='u' or i=='U':\n",
    "#         print(\"Vowel in the string = \",i)"
   ]
  },
  {
   "cell_type": "code",
   "execution_count": 47,
   "metadata": {},
   "outputs": [
    {
     "name": "stdout",
     "output_type": "stream",
     "text": [
      "The vowels are :  ['a', 'a', 'i']\n",
      "The length of vowels are :  3\n",
      "Occurance of 'A' is =  2\n",
      "Occurance of 'E' is =  0\n",
      "Occurance of 'I' is =  1\n",
      "Occurance of 'O' is =  0\n",
      "Occurance of 'U' is =  0\n",
      "Total percent of vowel present in the string:  42.857142857142854 %\n"
     ]
    }
   ],
   "source": [
    "string_vowel = []\n",
    "vowel = [\"a\",\"e\",\"i\",\"o\",\"u\",\"A\",\"E\",\"I\",\"O\",\"U\"]\n",
    "string = input(\"Enter the string: \")\n",
    "def vowelfinder(vowel,string_vowel,string):\n",
    "    for i in vowel:\n",
    "        for j in string:\n",
    "            if i == j:\n",
    "                string_vowel.append(j)\n",
    "    print(\"The vowels are : \",string_vowel)\n",
    "    print(\"The length of vowels are : \",len(string_vowel))\n",
    "    set_vowel = set(string_vowel)\n",
    "\n",
    "    newlist=[]\n",
    "    duplist=[]\n",
    "    for i in string_vowel:\n",
    "        if i not in newlist:\n",
    "            newlist.append(i)\n",
    "        else:\n",
    "            duplist.append(i)\n",
    "    a=0\n",
    "    e=0\n",
    "    io=0\n",
    "    o=0\n",
    "    u=0\n",
    "\n",
    "    for i in string_vowel:\n",
    "        if i == 'a':\n",
    "            a=a+1\n",
    "\n",
    "    for i in string_vowel:\n",
    "        if i == 'e':\n",
    "            e=e+1\n",
    "\n",
    "    for item in string_vowel:\n",
    "        if item == 'i':\n",
    "            io=io+1\n",
    "\n",
    "    for i in string_vowel:\n",
    "        if i == 'o':\n",
    "            o=o+1\n",
    "\n",
    "    for i in string_vowel:\n",
    "        if i == 'u':\n",
    "            u=u+1\n",
    "            \n",
    "    print(\"Occurance of 'A' is = \",a)\n",
    "    print(\"Occurance of 'E' is = \",e)\n",
    "    print(\"Occurance of 'I' is = \",io)\n",
    "    print(\"Occurance of 'O' is = \",o)\n",
    "    print(\"Occurance of 'U' is = \",u)\n",
    "    percent = (len(string_vowel)/len(string))*100\n",
    "    print(\"Total percent of vowel present in the string: \",percent,\"%\")\n",
    "\n",
    "vowelfinder(vowel,string_vowel,string)\n",
    "        "
   ]
  },
  {
   "cell_type": "code",
   "execution_count": null,
   "metadata": {},
   "outputs": [],
   "source": []
  }
 ],
 "metadata": {
  "kernelspec": {
   "display_name": "Python 3",
   "language": "python",
   "name": "python3"
  },
  "language_info": {
   "codemirror_mode": {
    "name": "ipython",
    "version": 3
   },
   "file_extension": ".py",
   "mimetype": "text/x-python",
   "name": "python",
   "nbconvert_exporter": "python",
   "pygments_lexer": "ipython3",
   "version": "3.11.4"
  },
  "orig_nbformat": 4
 },
 "nbformat": 4,
 "nbformat_minor": 2
}
